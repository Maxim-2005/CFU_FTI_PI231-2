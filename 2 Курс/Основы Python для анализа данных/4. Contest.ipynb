{
 "cells": [
  {
   "cell_type": "markdown",
   "metadata": {},
   "source": [
    "## 1. Фильтр по пороговому значению\n",
    "Дан вектор длины nn стоящий из целы чисел в диапазоне [0, 255]. Используя numpy выполните преобразование этого вектора в вектор той же длины, но в котором все числа больше 127 заменены на 1, а числа меньшие либо равные 127 заменены на 0."
   ]
  },
  {
   "cell_type": "code",
   "execution_count": 7,
   "metadata": {},
   "outputs": [
    {
     "name": "stdout",
     "output_type": "stream",
     "text": [
      "0 0 1 1 1 0\n"
     ]
    }
   ],
   "source": [
    "import numpy as np\n",
    "input_data = input()\n",
    "vector = np.array(list(map(int, input_data.split())))\n",
    "result_vector = np.where(vector > 127, 1, 0)\n",
    "print(' '.join(map(str, result_vector)))"
   ]
  },
  {
   "cell_type": "markdown",
   "metadata": {},
   "source": [
    "## 2. Замена чётных элементов в матрице\n",
    "На вход подаётся матрица состоящая из $n$ строк и $m$ столбцов. Элементы матрицы - целые числа $10^{−9}≤ai≤10^9$. Используйте возможности numpy для замены всех чётных элементов матрицы на число `target`."
   ]
  },
  {
   "cell_type": "code",
   "execution_count": 2,
   "metadata": {},
   "outputs": [
    {
     "name": "stdout",
     "output_type": "stream",
     "text": [
      "3 3\n",
      "5 3\n"
     ]
    }
   ],
   "source": [
    "import numpy as np\n",
    "\n",
    "n, m, target = map(int, input().split())\n",
    "matrix = np.array([list(map(int, input().split())) for _ in range(n)])\n",
    "matrix[matrix % 2 == 0] = target\n",
    "\n",
    "for row in matrix:\n",
    "    print(\" \".join(map(str, row)))"
   ]
  },
  {
   "cell_type": "markdown",
   "metadata": {},
   "source": [
    "На вход подаётся матрица (изображение в градациях серого) состоящая из nn строк и mm столбцов. Элементы матрицы - целые числа в диапазоне [0, 255]. Используя возможности numpy выполните свёртку изображения с фильтром:\n",
    "\n",
    "```\n",
    "-1 -1 -1 \n",
    "-1  9 -1 \n",
    "-1 -1 -1\n",
    "```\n",
    "\n",
    "Если после свёртки значение в ячейке получилось отрицательным, то замените его на 0, а всё, что больше 255, замените на 255.\n",
    "\n",
    "Посмотреть на то, как ваш алгоритм повлияет на изображение можно тут.\n",
    "\n",
    "Свёртка\n",
    "\n",
    "Имеется ядро – небольшая матрица весов. Это ядро «скользит» по двумерным входным данным, выполняя поэлементное умножение для той части данных, которую сейчас покрывает. Результаты перемножений ячеек суммируются в одном выходном пикселе "
   ]
  },
  {
   "cell_type": "code",
   "execution_count": null,
   "metadata": {},
   "outputs": [],
   "source": [
    "import numpy as np\n",
    "from scipy.signal import convolve2d\n",
    "\n",
    "n, m = map(int, input().split())\n",
    "matrix = np.array([list(map(int, input().split())) for _ in range(n)])\n",
    "kernel = np.array([[-1, -1, -1],\n",
    "                   [-1,  9, -1],\n",
    "                   [-1, -1, -1]])\n",
    "\n",
    "convolved = convolve2d(matrix, kernel, mode='valid')\n",
    "convolved = np.clip(convolved, 0, 255)\n",
    "convolved = convolved.astype(int)\n",
    "\n",
    "for row in convolved:\n",
    "    print(\" \".join(map(str, row)))"
   ]
  },
  {
   "cell_type": "markdown",
   "metadata": {},
   "source": [
    "## 4. Среднеквадратичное отклонение\n",
    "\n",
    "\n",
    "Даны две матрицы одинакового размера kk строк на mm столбцов состоящие из вещественных чисел. Вычислите среднеквадратичное отклонение этих двух матриц друг от друга.\n",
    "\n",
    "$\n",
    "MSD=1/n∑i=1(ai−bi)\n",
    "$\n",
    "\n",
    "где nn - это общее количество элементов в матрице.\n"
   ]
  },
  {
   "cell_type": "code",
   "execution_count": null,
   "metadata": {},
   "outputs": [],
   "source": [
    "import numpy as np\n",
    "\n",
    "k, m = map(int, input().strip().split())\n",
    "matrix_a = np.array([list(map(float, input().strip().split())) for _ in range(k)])\n",
    "matrix_b = np.array([list(map(float, input().strip().split())) for _ in range(k)])\n",
    "\n",
    "n = k * m\n",
    "msd = np.sum((matrix_a - matrix_b) ** 2) / n\n",
    "\n",
    "print(round(msd, 2))"
   ]
  },
  {
   "cell_type": "markdown",
   "metadata": {},
   "source": [
    "## 5. Нормирование векторов\n",
    "Нормирование данных заключается в приведении произвольного диапазона изменения значений к некоторым требуемым границам (например от 0 до 1 или от -1 до 1).\n",
    "\n",
    "Дана матрица размера $k$ строк на mm столбцов состоящая из вещественных чисел. Каждая строка матрицы - это вектор. Нормируйте все вектора в матрице на их длину:\n",
    "\n",
    "где $vi​$ - это $i-я$ компонента исходного вектора, $v′i$​ - это $i-я$ компонента нормированного вектора."
   ]
  },
  {
   "cell_type": "code",
   "execution_count": null,
   "metadata": {},
   "outputs": [],
   "source": [
    "import numpy as np\n",
    "\n",
    "k, m = map(int, input().split())\n",
    "matrix = np.array([list(map(float, input().split())) for _ in range(k)])\n",
    "\n",
    "def normalize_row(row):\n",
    "    norm = np.sqrt(np.sum(row ** 2))\n",
    "    if norm == 0:\n",
    "        return row\n",
    "    return row / norm\n",
    "\n",
    "normalized_matrix = np.array([normalize_row(row) for row in matrix])\n",
    "normalized_matrix = np.round(normalized_matrix, 2)\n",
    "\n",
    "for row in normalized_matrix:\n",
    "    print(' '.join(map(str, row)))"
   ]
  },
  {
   "cell_type": "markdown",
   "metadata": {},
   "source": [
    "## 6. Inverse document frequency\n",
    "\n",
    "\n",
    "В некоторых алгоритмах работающих с текстом принято представлять текст в виде вектора, в котором каждое слово стоит в некоторой фиксированной позиции, а значение соответствующей компоненты вектора показывает сколько раз это слово встречалось в тексте.\n",
    "\n",
    "Например, для текста:\n",
    "\n",
    "\n",
    "Каждая обезьяна любит банан. Банан любит не только обезьяна\n",
    "\n",
    "Соответствующий вектор:\n",
    "каждая \tобезьяна \tлюбит \tбанан \tне \tтолько\n",
    "1 \t2 \t2 \t2 \t1 \t1\n",
    "\n",
    "При этом текстов может быть много, и для каждого строится такой вектор.\n",
    "\n",
    "Например:\n",
    "\n",
    "\n",
    "The car is driven on the road\n",
    "The truck is driven on the highway\n",
    "\n",
    "в результате мы получаем матрицу вида:\n",
    "the \tcar \ttruck \tis \tdriven \ton \troad \thighway\n",
    "2 \t1 \t0 \t1 \t1 \t1 \t1 \t0\n",
    "2 \t0 \t1 \t1 \t1 \t1 \t0 \t1\n",
    "\n",
    "Из примера видно, что некоторые слова встречается в каждом тексте, а другие только в одном. Это значит, что обнаружение в тексте, например слова the нам не о чём не говорит, т.к. оно есть во всех текстах, а слово truck однозначно позволяет понять, что текст о грузовике.\n",
    "\n",
    "Это говорит о том, что разные слова в тексте имеют разную важность. Для того, чтобы учесть важность слова используется Inverse document frequency (IDF). Один из вариантов расчёта IDF:\n",
    "\n",
    "IDF=logNnt+1+1IDF=lognt​+1N​+1\n",
    "\n",
    "где NN - это количество текстов (в примере 2 текста), ntnt​ - в скольки текстах встречалось это слово (не важно сколько раз), в качестве loglog используйте натуральный логарифм.\n",
    "\n",
    "Например, для текстов выше:\n",
    "the \tcar \ttruck \tis \tdriven \ton \troad \thighway\n",
    "0.59 \t1.0 \t1.0 \t0.59 \t0.59 \t0.59 \t1.0 \t1.0\n",
    "\n",
    "Получается, что сова car, truck и road, highway несут наибольшую полезность для дальнейшего анализа.\n",
    "\n",
    "Задние\n",
    "\n",
    "Дана матрица целых чисел размера kk строк на mm столбцов. Рассчитайте для данной матрицы IDFIDF."
   ]
  },
  {
   "cell_type": "code",
   "execution_count": null,
   "metadata": {},
   "outputs": [],
   "source": [
    "import math\n",
    "\n",
    "k, m = map(int, input().split())\n",
    "matrix = [list(map(int, input().split())) for _ in range(k)]\n",
    "idf_values = []\n",
    "\n",
    "for j in range(m):\n",
    "    nt = sum(1 for i in range(k) if matrix[i][j] > 0)\n",
    "    idf = math.log((k / (nt + 1))) + 1\n",
    "    idf_values.append(round(idf, 2))\n",
    "\n",
    "print(' '.join(map(str, idf_values)))"
   ]
  },
  {
   "cell_type": "markdown",
   "metadata": {},
   "source": [
    "## 7. Индексы элементов в диапазоне\n",
    "Дан вектор длины nn стоящий из целы чисел 10−9≤ni≤10910−9≤ni​≤109. Используя numpy определите индексы элементов вектора, которые лежат в диапазоне -100 до 100 включительно. Гарантируется, что есть хотя бы 1 элемент в этом диапазоне."
   ]
  },
  {
   "cell_type": "code",
   "execution_count": null,
   "metadata": {},
   "outputs": [],
   "source": [
    "import numpy as np\n",
    "\n",
    "input_data = input().strip()\n",
    "vector = np.array(list(map(int, input_data.split())))\n",
    "indices = np.where((vector >= -100) & (vector <= 100))[0]\n",
    "\n",
    "print(' '.join(map(str, indices)))"
   ]
  },
  {
   "cell_type": "markdown",
   "metadata": {},
   "source": [
    "## 8. Последовательность действий\n",
    "\n",
    "Дан вектор длины $n$ стоящий из вещественных чисел. Используя `numpy` выполните следующие действия:\n",
    "* каждый элемент вектора возведите в квадрат;\n",
    "* затем вычислите от каждого элемента синус;\n",
    "* определите минимальный элемент в получившемся векторе."
   ]
  },
  {
   "cell_type": "code",
   "execution_count": null,
   "metadata": {},
   "outputs": [],
   "source": [
    "import numpy as np\n",
    "\n",
    "input_data = input().strip()\n",
    "vector = np.array(list(map(float, input_data.split())))\n",
    "sine_squared_vector = np.sin(vector ** 2)\n",
    "min_value = np.min(sine_squared_vector)\n",
    "\n",
    "print(round(min_value, 2))"
   ]
  }
 ],
 "metadata": {
  "kernelspec": {
   "display_name": "Python 3",
   "language": "python",
   "name": "python3"
  },
  "language_info": {
   "codemirror_mode": {
    "name": "ipython",
    "version": 3
   },
   "file_extension": ".py",
   "mimetype": "text/x-python",
   "name": "python",
   "nbconvert_exporter": "python",
   "pygments_lexer": "ipython3",
   "version": "3.12.6"
  }
 },
 "nbformat": 4,
 "nbformat_minor": 2
}
