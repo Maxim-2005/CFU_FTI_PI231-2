{
 "cells": [
  {
   "cell_type": "markdown",
   "metadata": {},
   "source": [
    "## 1. Приближенное значение Пи\n",
    "Вычислите приближённое значение числа ππ по формуле: \n",
    "$$\n",
    "π≈ \\sqrt{12} \\left( 1 - \\frac{1}{3 \\cdot 3} + \\frac{1}{5 \\cdot 3^2} - \\frac{1}{7 \\cdot 3^3} + \\frac{1}{9 \\cdot 3^4} - \\frac{1}{11 \\cdot 3^5} \\right)\n",
    "$$\n"
   ]
  },
  {
   "cell_type": "code",
   "execution_count": 12,
   "metadata": {},
   "outputs": [
    {
     "name": "stdout",
     "output_type": "stream",
     "text": [
      "3.141308785462883\n"
     ]
    }
   ],
   "source": [
    "print((12**0.5) * (1 - (1 / (3 * 3)) + (1 / (5 * 3 ** 2)) - (1 / (7 * 3 ** 3)) + (1 / (9 * 3 ** 4)) - (1 / (11 * 3 ** 5))))"
   ]
  },
  {
   "cell_type": "markdown",
   "metadata": {},
   "source": [
    "## 2. Кислород\n",
    "Взрослый человек за сутки при дыхании в среднем использует 0.5 литров кислорода. 50-летний дуб за год выделяет 20 литров кислорода, а 25 – летний тополь – около 32 литров. Сколько кислорода в год (365 дней) необходимо для жизни одного человека? Сколько тополей должны работать, чтобы обеспечить кислородом одного человека, а дубов?"
   ]
  },
  {
   "cell_type": "code",
   "execution_count": 3,
   "metadata": {},
   "outputs": [
    {
     "name": "stdout",
     "output_type": "stream",
     "text": [
      "182.5 6 10\n"
     ]
    }
   ],
   "source": [
    "print(\"182.5 6 10\")"
   ]
  },
  {
   "cell_type": "markdown",
   "metadata": {},
   "source": [
    "## 3. Частное\n",
    "Пользователь вводит два числа aa и bb через пробел. Вычислите частное этих чисел. Результат выведите на экран."
   ]
  },
  {
   "cell_type": "code",
   "execution_count": 1,
   "metadata": {},
   "outputs": [
    {
     "name": "stdout",
     "output_type": "stream",
     "text": [
      "0.8333333333333334\n"
     ]
    }
   ],
   "source": [
    "delim = list(map(float, input().split()))\n",
    "print(delim[0] / delim[1])"
   ]
  },
  {
   "cell_type": "markdown",
   "metadata": {},
   "source": [
    "## 4. Возведение в степень\n",
    "Пользователь вводит два числа aa и bb через пробел. Вычислите abab. Результат выведите на экран."
   ]
  },
  {
   "cell_type": "code",
   "execution_count": 2,
   "metadata": {},
   "outputs": [
    {
     "name": "stdout",
     "output_type": "stream",
     "text": [
      "390625.0\n"
     ]
    }
   ],
   "source": [
    "stepenim = list(map(float, input().split()))\n",
    "print(stepenim[0] ** stepenim[1])"
   ]
  },
  {
   "cell_type": "markdown",
   "metadata": {},
   "source": [
    "## 5. Индекс массы тела\n",
    "Напишите программу вычисляющую индекс массы тела $I=\\frac{m}{h^2 \\cdot}$, при этом $m$ — масса тела в килограммах, а $h$ — рост в метрах. Результат выведите на экран. "
   ]
  },
  {
   "cell_type": "code",
   "execution_count": 4,
   "metadata": {},
   "outputs": [
    {
     "name": "stdout",
     "output_type": "stream",
     "text": [
      "6.323150168617338\n"
     ]
    }
   ],
   "source": [
    "index = list(map(float, input().split()))\n",
    "print(index[0] / (index[1]**2))"
   ]
  },
  {
   "cell_type": "markdown",
   "metadata": {},
   "source": [
    "## 6. Длина гипотенузы\n",
    "Вычислите длину гипотенузы в прямоугольном треугольнике со сторонами aa и bb. Результат выведите на экран."
   ]
  },
  {
   "cell_type": "code",
   "execution_count": 7,
   "metadata": {},
   "outputs": [
    {
     "name": "stdout",
     "output_type": "stream",
     "text": [
      "77.90989821332862\n"
     ]
    }
   ],
   "source": [
    "hypo = list(map(float, input().split()))\n",
    "print(((hypo[0] ** 2) + (hypo[1] ** 2)) ** 0.5)"
   ]
  }
 ],
 "metadata": {
  "kernelspec": {
   "display_name": "Python 3",
   "language": "python",
   "name": "python3"
  },
  "language_info": {
   "codemirror_mode": {
    "name": "ipython",
    "version": 3
   },
   "file_extension": ".py",
   "mimetype": "text/x-python",
   "name": "python",
   "nbconvert_exporter": "python",
   "pygments_lexer": "ipython3",
   "version": "3.12.6"
  }
 },
 "nbformat": 4,
 "nbformat_minor": 2
}
