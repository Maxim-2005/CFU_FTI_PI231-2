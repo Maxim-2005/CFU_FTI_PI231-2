{
 "cells": [
  {
   "cell_type": "markdown",
   "metadata": {},
   "source": [
    "## 1. Приближенное значение Пи\n",
    "Вычислите приближённое значение числа ππ по формуле: \n",
    "$$\n",
    "π≈ \\sqrt{12} \\left( 1 - \\frac{1}{3 \\cdot 3} + \\frac{1}{5 \\cdot 3^2} - \\frac{1}{7 \\cdot 3^3} + \\frac{1}{9 \\cdot 3^4} - \\frac{1}{11 \\cdot 3^5} \\right)\n",
    "$$\n"
   ]
  },
  {
   "cell_type": "code",
   "execution_count": 12,
   "metadata": {},
   "outputs": [
    {
     "name": "stdout",
     "output_type": "stream",
     "text": [
      "3.141308785462883\n"
     ]
    }
   ],
   "source": [
    "print((12**0.5) * (1 - (1 / (3 * 3)) + (1 / (5 * 3 ** 2)) - (1 / (7 * 3 ** 3)) + (1 / (9 * 3 ** 4)) - (1 / (11 * 3 ** 5))))"
   ]
  },
  {
   "cell_type": "markdown",
   "metadata": {},
   "source": [
    "## 2. Кислород\n",
    "Взрослый человек за сутки при дыхании в среднем использует 0.5 литров кислорода. 50-летний дуб за год выделяет 20 литров кислорода, а 25 – летний тополь – около 32 литров. Сколько кислорода в год (365 дней) необходимо для жизни одного человека? Сколько тополей должны работать, чтобы обеспечить кислородом одного человека, а дубов?"
   ]
  },
  {
   "cell_type": "markdown",
   "metadata": {},
   "source": []
  }
 ],
 "metadata": {
  "kernelspec": {
   "display_name": "Python 3",
   "language": "python",
   "name": "python3"
  },
  "language_info": {
   "codemirror_mode": {
    "name": "ipython",
    "version": 3
   },
   "file_extension": ".py",
   "mimetype": "text/x-python",
   "name": "python",
   "nbconvert_exporter": "python",
   "pygments_lexer": "ipython3",
   "version": "3.12.2"
  }
 },
 "nbformat": 4,
 "nbformat_minor": 2
}
