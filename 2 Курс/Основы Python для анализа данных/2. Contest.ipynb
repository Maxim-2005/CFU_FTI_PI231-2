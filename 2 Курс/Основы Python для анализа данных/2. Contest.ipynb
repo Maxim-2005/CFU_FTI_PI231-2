{
 "cells": [
  {
   "cell_type": "markdown",
   "metadata": {},
   "source": [
    "## 1. Самое частое число\n",
    "Дан список целых чисел. Определите, какое число в этом списке встречается чаще остальных. Гарантируется, что такое число только одно."
   ]
  },
  {
   "cell_type": "code",
   "execution_count": 5,
   "metadata": {},
   "outputs": [
    {
     "name": "stdout",
     "output_type": "stream",
     "text": [
      "4\n"
     ]
    }
   ],
   "source": [
    "n = int(input())\n",
    "numbers = list(map(int, input().split()))\n",
    "most_frequent = max(set(numbers), key=numbers.count)\n",
    "print(most_frequent)"
   ]
  },
  {
   "cell_type": "markdown",
   "metadata": {},
   "source": [
    "## 2. Количество нуклеотидов в цепочках\n",
    "Дана последовательность нуклеотидов РНК. Каждый нуклеотид обозначен одним из 4х символов [G, U, C, A]:\n",
    "\n",
    "Например: AUCCUCUAGАААUUAAGAUAA\n",
    "\n",
    "Тройка нуклеотидов называется кодон. Кодон - это единица генетического кода (т.е. пол кодона не бывает).\n",
    "\n",
    "Указанная последовательность кодирует некоторое количество полипептидных цепей, каждая из которых завершается стоп-кодоном.\n",
    "\n",
    "Стоп-кодон - прекращает синтеза полипептидной цепи. Стоп-кодон кодируется одним из следующих триплетов: UAA, UAG, UGA. Т.е. каждый из них - это стоп-кодон.\n",
    "\n",
    "Определите, сколько в заданном фрагменте РНК кодируется полипептидных цепей и выведите на экран сколько нуклеотидов в каждой из них. При подсчёте количества нуклеотидов в цепи, нуклеотиды входящие в стоп-кодон не учитывайте.\n",
    "\n",
    "Гарантируется, что в конце исходной последовательности есть стоп-кодон.\n",
    "\n",
    "Пояснение:\n",
    "\n",
    "Исходная цепочка: AUCCUCUAGАААUUAAGAUAA\n",
    "Полипептидных цепей: 2 - AUCCUCUAG  АААUUAAGAUAA\n",
    "Ответ: 6 9\n",
    "\n"
   ]
  },
  {
   "cell_type": "code",
   "execution_count": 1,
   "metadata": {},
   "outputs": [
    {
     "name": "stdout",
     "output_type": "stream",
     "text": [
      "6 0 3\n"
     ]
    }
   ],
   "source": [
    "def count_polypeptides(rna_sequence):\n",
    "    stop_codons = {'UAA', 'UAG', 'UGA'}\n",
    "    polypeptide_lengths = []\n",
    "    length = 0\n",
    "\n",
    "    for i in range(0, len(rna_sequence), 3):\n",
    "        codon = rna_sequence[i:i+3]\n",
    "        \n",
    "        if codon in stop_codons:\n",
    "            polypeptide_lengths.append(length)\n",
    "            length = 0\n",
    "        else:\n",
    "            length += 3\n",
    "\n",
    "    return polypeptide_lengths\n",
    "rna_sequence = input().strip()\n",
    "result = count_polypeptides(rna_sequence)\n",
    "print(' '.join(map(str, result)))\n"
   ]
  },
  {
   "cell_type": "markdown",
   "metadata": {},
   "source": [
    "## 3. Таблица умножения\n",
    "Выведите на экран таблицу умножения размером row строк и col столбцов."
   ]
  },
  {
   "cell_type": "code",
   "execution_count": 21,
   "metadata": {},
   "outputs": [
    {
     "name": "stdout",
     "output_type": "stream",
     "text": [
      "    |   1   2   3   4\n",
      "   ------------------\n",
      "   1|   1   2   3   4\n",
      "   2|   2   4   6   8\n",
      "   3|   3   6   9  12\n",
      "   4|   4   8  12  16\n"
     ]
    }
   ],
   "source": [
    "def print_multiplication_table(row, col):\n",
    "    print(\"    |\", end=\"\")\n",
    "    for i in range(1, col + 1):\n",
    "        print(f\"{i:4}\", end=\"\")\n",
    "    print()\n",
    "\n",
    "    print(\"   \" + \"-\" * ((4 * col)+2))\n",
    "\n",
    "    for i in range(1, row + 1):\n",
    "        print(f\" {i:3}|\", end=\"\")\n",
    "        for j in range(1, col + 1):\n",
    "            print(f\"{i * j:4}\", end=\"\")\n",
    "        print()\n",
    "\n",
    "row, col = map(int, input().split())\n",
    "\n",
    "print_multiplication_table(row, col)"
   ]
  },
  {
   "cell_type": "markdown",
   "metadata": {},
   "source": [
    "## 4. Вывод чисел волнами\n",
    "Дано целое положительное число N, выведете на экран последовательность от 1 до N, так чтобы ширина \"ёлочки\" росла волнами."
   ]
  },
  {
   "cell_type": "code",
   "execution_count": 35,
   "metadata": {},
   "outputs": [
    {
     "name": "stdout",
     "output_type": "stream",
     "text": [
      "1\n",
      "2 3\n",
      "4\n",
      "5 6\n",
      "7 8 9\n",
      "10\n"
     ]
    }
   ],
   "source": [
    "def print_waves(n):\n",
    "    i, k, s, w = 1, 1, 1, 3\n",
    "\n",
    "    while i <= n:\n",
    "        print(\" \".join(str(i + j) for j in range(k) if i + j <= n))\n",
    "        i += k\n",
    "        k += s\n",
    "\n",
    "        if k < 1:\n",
    "            s, k, w = 1, 2, w + 1\n",
    "        elif k >= w:\n",
    "            s, k = -1, k - 2\n",
    "\n",
    "n = int(input())\n",
    "print_waves(n)"
   ]
  },
  {
   "cell_type": "markdown",
   "metadata": {},
   "source": [
    "## 5. RLE сжатие\n",
    "Дана строка, состоящая из заглавных латинских букв A-Z. Реализуйте алгоритм RLE, который на выходе выдаст строку в сжатом виде.\n",
    "\n",
    "Принцип сжатия: если символ встречается 1 раз, он остаётся без изменений; если символ встречается более 1 раза подряд, к нему добавляется количество повторений."
   ]
  },
  {
   "cell_type": "code",
   "execution_count": 38,
   "metadata": {},
   "outputs": [
    {
     "name": "stdout",
     "output_type": "stream",
     "text": [
      "R7W5\n"
     ]
    }
   ],
   "source": [
    "s = input().strip()\n",
    "c, n = [], 1\n",
    "\n",
    "for i in range(1, len(s) + 1):\n",
    "    if i < len(s) and s[i] == s[i - 1]: n += 1\n",
    "    else: c.append(s[i - 1] + (str(n) * (n > 1))); n = 1\n",
    "\n",
    "print(''.join(c))\n"
   ]
  },
  {
   "cell_type": "markdown",
   "metadata": {},
   "source": [
    "## 6. Заголовок столбца Excel\n",
    "Определите имя столбца Excel по его целочисленному номеру nn.\n",
    "Например:\n",
    "\n",
    "1 -> A\n",
    "\n",
    "2 -> B\n",
    "\n",
    "3 -> C\n",
    "\n",
    "..................\n",
    "\n",
    "26 -> Z\n",
    "\n",
    "27 -> AA\n",
    "\n",
    "28 -> AB \n"
   ]
  },
  {
   "cell_type": "code",
   "execution_count": 41,
   "metadata": {},
   "outputs": [
    {
     "name": "stdout",
     "output_type": "stream",
     "text": [
      "AUL\n"
     ]
    }
   ],
   "source": [
    "n = int(input())\n",
    "s = ''\n",
    "while n:\n",
    "    n -= 1\n",
    "    s = chr(n % 26 + 65) + s\n",
    "    n //= 26\n",
    "print(s)"
   ]
  },
  {
   "cell_type": "markdown",
   "metadata": {},
   "source": [
    "## 7. Дождь над островом\n",
    "Дан остров в двумерном мире. Остров представляет собой набор столбцов различной высоты, состоящих из каменных блоков и окружённый морем. Размер острова nn блоков в ширину. Высота столбцов задана при помощи последовательности из nn целых чисел, каждое из которых указывает высоту столбца над уровнем моря в блоках. Столбцы перечислены в порядке слева направо.\n",
    "\n",
    "Над островом прошёл дождь, который заполнил водой все низины, а не поместившаяся в них вода стекла в море, не увеличив его уровень.\n",
    "\n",
    "По ландшафту острова определите, сколько воды осталось в низинах острова после дождя."
   ]
  },
  {
   "cell_type": "code",
   "execution_count": 42,
   "metadata": {},
   "outputs": [
    {
     "name": "stdout",
     "output_type": "stream",
     "text": [
      "2\n"
     ]
    }
   ],
   "source": [
    "n = int(input())\n",
    "heights = list(map(int, input().split()))\n",
    "\n",
    "if n < 3:\n",
    "    print(0)\n",
    "else:\n",
    "    left_max = [0] * n\n",
    "    right_max = [0] * n\n",
    "    water = 0\n",
    "\n",
    "    left_max[0] = heights[0]\n",
    "    for i in range(1, n):\n",
    "        left_max[i] = max(left_max[i - 1], heights[i])\n",
    "\n",
    "    right_max[n - 1] = heights[n - 1]\n",
    "    for i in range(n - 2, -1, -1):\n",
    "        right_max[i] = max(right_max[i + 1], heights[i])\n",
    "\n",
    "    for i in range(n):\n",
    "        water += min(left_max[i], right_max[i]) - heights[i]\n",
    "\n",
    "    print(water)"
   ]
  },
  {
   "cell_type": "markdown",
   "metadata": {},
   "source": [
    "## 8. Анаграмма. 2 числа\n",
    "Дано два целых положительных числа без ведущих нулей. Определите, возможно ли получить первое число из второго перестановкой цифр."
   ]
  },
  {
   "cell_type": "code",
   "execution_count": 43,
   "metadata": {},
   "outputs": [
    {
     "name": "stdout",
     "output_type": "stream",
     "text": [
      "YES\n"
     ]
    }
   ],
   "source": [
    "a, b = input().split()\n",
    "print(\"YES\" if sorted(a) == sorted(b) else \"NO\")"
   ]
  },
  {
   "cell_type": "markdown",
   "metadata": {},
   "source": [
    "## 9. Частота символов в тексте. Гистограмма\n",
    "Дан текст. Определите сколько раз каждый символ встречается в этом тексте и выведите эту информацию в виде гистограммы. Под каждым столбцом гистограммы выведите соответствующий символ. Символы должны быть отсортированы по возрастанию их кода в таблице ASCII."
   ]
  },
  {
   "cell_type": "code",
   "execution_count": 51,
   "metadata": {},
   "outputs": [
    {
     "name": "stdout",
     "output_type": "stream",
     "text": [
      "#     \n",
      "# #  #\n",
      "######\n",
      "[eiprw\n"
     ]
    }
   ],
   "source": [
    "s = input().strip()\n",
    "counts = {c: s.count(c) for c in sorted(set(s))}\n",
    "\n",
    "max_count = max(counts.values())\n",
    "for i in range(max_count, 0, -1):\n",
    "    for c in sorted(counts):\n",
    "        print('#' if counts[c] >= i else ' ', end='')\n",
    "    print()\n",
    "print(''.join(sorted(counts)))"
   ]
  },
  {
   "cell_type": "markdown",
   "metadata": {},
   "source": [
    "## 10. На каком языке текст\n",
    "Вам даны три текста:\n",
    "\n",
    "* про первый известно, что он написан на английском языке и лежит в файле trainEN.txt;\n",
    "\n",
    "* про второй известно, что он написан на русском языке с последующей транслитерацией в английские символы и лежит в файле trainRUS.txt;\n",
    "\n",
    "* про третий известно, что он написан либо на английском, либо на русском (с транслитерацией) и лежит в файле input.txt;\n",
    "\n",
    "Определите, на каком языке написан третий текст и выведите RUS или EN соответственно."
   ]
  },
  {
   "cell_type": "code",
   "execution_count": null,
   "metadata": {},
   "outputs": [],
   "source": [
    "import math\n",
    "from collections import defaultdict\n",
    "\n",
    "def read_text(file_path):\n",
    "    with open(file_path, 'r', encoding='utf-8') as f:\n",
    "        return f.read()\n",
    "\n",
    "def compute_frequencies(text):\n",
    "    freq = defaultdict(int)\n",
    "    for char in text:\n",
    "        freq[char] += 1\n",
    "    return dict(freq)\n",
    "\n",
    "def cosine_similarity(vec1, vec2):\n",
    "    keys = set(vec1.keys()).union(set(vec2.keys()))\n",
    "    dot_product = sum(vec1.get(k, 0) * vec2.get(k, 0) for k in keys)\n",
    "    magnitude1 = math.sqrt(sum(v ** 2 for v in vec1.values()))\n",
    "    magnitude2 = math.sqrt(sum(v ** 2 for v in vec2.values()))\n",
    "    \n",
    "    if magnitude1 == 0 or magnitude2 == 0:\n",
    "        return 0.0\n",
    "    return dot_product / (magnitude1 * magnitude2)\n",
    "\n",
    "# Чтение текстов из файлов\n",
    "english_text = read_text('trainEN.txt')\n",
    "russian_text = read_text('trainRUS.txt')\n",
    "input_text = read_text('input.txt')\n",
    "\n",
    "# Подсчет частот символов\n",
    "freq_en = compute_frequencies(english_text)\n",
    "freq_rus = compute_frequencies(russian_text)\n",
    "freq_input = compute_frequencies(input_text)\n",
    "\n",
    "# Приведение всех частот к одному набору символов\n",
    "all_chars = set(freq_en.keys()).union(set(freq_rus.keys())).union(set(freq_input.keys()))\n",
    "\n",
    "# Создание векторов частот с 0 для недостающих символов\n",
    "vec_en = {char: freq_en.get(char, 0) for char in all_chars}\n",
    "vec_rus = {char: freq_rus.get(char, 0) for char in all_chars}\n",
    "vec_input = {char: freq_input.get(char, 0) for char in all_chars}\n",
    "\n",
    "# Вычисление косинусных сходств\n",
    "cos_sim_en = cosine_similarity(vec_input, vec_en)\n",
    "cos_sim_rus = cosine_similarity(vec_input, vec_rus)\n",
    "\n",
    "# Определение языка текста\n",
    "result = 'EN' if cos_sim_en > cos_sim_rus else 'RUS'\n",
    "print(result)"
   ]
  },
  {
   "cell_type": "markdown",
   "metadata": {},
   "source": [
    "## 11. Функция. Простое число\n",
    "Дан код, который для введённого целого положительного числа, определяет является ли оно простым и, если это так, выводит YES, иначе NO:\n",
    "\n",
    "```python\n",
    "number = int(input())\n",
    "# Ваш код будет вставлен сюда\n",
    "print(\"YES\" if is_prime(number) else \"NO\")\n",
    "```\n",
    "Этот код будет прогоняться по тестам. Ваша задача реализовать функцию ```is_prime``` таким образом, чтобы этот код стал рабочим.\n"
   ]
  },
  {
   "cell_type": "code",
   "execution_count": null,
   "metadata": {},
   "outputs": [],
   "source": [
    "import math\n",
    "\n",
    "def is_prime(n):\n",
    "    if n <= 1:\n",
    "        return False\n",
    "    if n <= 3:\n",
    "        return True  # 2 и 3 простые\n",
    "    if n % 2 == 0 or n % 3 == 0:\n",
    "        return False  # исключаем четные и делящиеся на 3\n",
    "    i = 5\n",
    "    while i * i <= n:\n",
    "        if n % i == 0 or n % (i + 2) == 0:\n",
    "            return False\n",
    "        i += 6\n",
    "    return True"
   ]
  },
  {
   "cell_type": "markdown",
   "metadata": {},
   "source": [
    "## 12. Функция. Выход из лабиринта\n",
    "Дан код, который определяет, достижим ли выход из лабиринта из заданной точки старта. И если это так, выводит YES, иначе NO\n",
    "\n",
    "Этот код будет прогоняться по тестам. Ваша задача реализовать функцию ```is_can_exit_from_maze``` таким образом, чтобы этот код стал рабочим.\n",
    "\n",
    "Лабиринт задан в виде двумерного массива символов состоящего из rows строк и cols столбцовю."
   ]
  },
  {
   "cell_type": "code",
   "execution_count": null,
   "metadata": {},
   "outputs": [],
   "source": [
    "from collections import deque\n",
    "\n",
    "def is_can_exit_from_maze(maze, start_row, start_col):\n",
    "    rows = len(maze)\n",
    "    cols = len(maze[0])\n",
    "    \n",
    "    # Направления движения: вниз, вверх, вправо, влево\n",
    "    directions = [(1, 0), (-1, 0), (0, 1), (0, -1)]\n",
    "    \n",
    "    # Инициализация очереди для BFS и множества для посещённых клеток\n",
    "    queue = deque([(start_row, start_col)])\n",
    "    visited = set()\n",
    "    visited.add((start_row, start_col))\n",
    "    \n",
    "    while queue:\n",
    "        r, c = queue.popleft()\n",
    "        \n",
    "        # Проверяем, является ли текущая клетка выходом\n",
    "        if maze[r][c] == 'E':\n",
    "            return True\n",
    "        \n",
    "        # Проверяем все возможные направления\n",
    "        for dr, dc in directions:\n",
    "            new_r, new_c = r + dr, c + dc\n",
    "            \n",
    "            # Проверяем границы и проходимость\n",
    "            if 0 <= new_r < rows and 0 <= new_c < cols and (new_r, new_c) not in visited:\n",
    "                if maze[new_r][new_c] != '#':  # Не проходим через стены\n",
    "                    visited.add((new_r, new_c))\n",
    "                    queue.append((new_r, new_c))\n",
    "    \n",
    "    return False"
   ]
  },
  {
   "cell_type": "markdown",
   "metadata": {},
   "source": [
    "## 13. Функция. Сортировка по количеству единиц\n",
    "\n",
    "\n",
    "Дан код, который получает последовательность целых положительных чисел, состоящих из единиц и нулей (без ведущих нулей) и сортирует её по убыванию количества единиц в числе. Числа, с одинаковым количеством единиц, должны быть отсортированы по возрастанию значения:\n",
    "\n",
    "```python\n",
    "# Ваш код будет вставлен сюда\n",
    "numbers = input().split()\n",
    "numbers.sort(reverse=True, key=sort_key)\n",
    "print(' '.join(numbers))\n",
    "```\n",
    "Этот код будет прогоняться по тестам. Ваша задача реализовать функцию ```sort_key``` таким образом, чтобы код стал рабочим.\n"
   ]
  },
  {
   "cell_type": "code",
   "execution_count": 83,
   "metadata": {},
   "outputs": [
    {
     "name": "stdout",
     "output_type": "stream",
     "text": [
      "1000000 100001 10101 1111\n"
     ]
    }
   ],
   "source": [
    "def sort_key(element):\n",
    "    return str(element).count(\"1\"), -int(element)"
   ]
  },
  {
   "cell_type": "markdown",
   "metadata": {},
   "source": [
    "## 14. Функция. Валидатор судоку\n",
    "Дан код, который принимает на вход матрицу из 9 строк по 9 цифр в каждой строке. Каждая цифра может быть из диапазона от 1 до 9 включительно. Код должен проверить, является ли матрица решением судоку:\n",
    "\n",
    "```python\n",
    "matrix = [[int(i) for i in input() ] for _ in range(9)]\n",
    "# Ваш код будет вставлен сюда\n",
    "print('YES' if is_valid_sudoku(matrix) else 'NO')\n",
    "```\n",
    "\n",
    "Этот код будет прогоняться по тестам. Ваша задача реализовать функцию ```is_valid_sudoku``` таким образом, чтобы код стал рабочим.\n"
   ]
  },
  {
   "cell_type": "code",
   "execution_count": 85,
   "metadata": {},
   "outputs": [
    {
     "name": "stdout",
     "output_type": "stream",
     "text": [
      "YES\n"
     ]
    }
   ],
   "source": [
    "def is_valid_sudoku(matrix):\n",
    "    for row in matrix:\n",
    "        if not is_valid_group(row):\n",
    "            return False\n",
    "\n",
    "    for col in range(9):\n",
    "        if not is_valid_group([matrix[row][col] for row in range(9)]):\n",
    "            return False\n",
    "\n",
    "    for box_row in range(3):\n",
    "        for box_col in range(3):\n",
    "            if not is_valid_group([\n",
    "                matrix[r][c] \n",
    "                for r in range(box_row * 3, box_row * 3 + 3) \n",
    "                for c in range(box_col * 3, box_col * 3 + 3)\n",
    "            ]):\n",
    "                return False\n",
    "\n",
    "    return True\n",
    "\n",
    "def is_valid_group(group):\n",
    "    seen = set()\n",
    "    for number in group:\n",
    "        if number in seen or number < 1 or number > 9:\n",
    "            return False\n",
    "        seen.add(number)\n",
    "    return True"
   ]
  },
  {
   "cell_type": "markdown",
   "metadata": {},
   "source": [
    "## 15. Актуальная профессия\n",
    "Вася - дипломированный специалист в области машинного обучения и нейронных сетей, поэтому ему дозволено чистить ботинки нашим робо-господам. В течение дня Вася записывал количество ног у робо-господ доверивших ему свои ноги. В этом сезоне модно иметь от 1й до 9ти ног. Кроме того, что Вася любит вспоминать, как он обучал в университете свой первый искусственный нейрон для задачи Кредитного скоринга, он ещё любит писать код. Вася хочет узнать, какое количество ног робо-господ у самой длинной непрерывной подпоследовательности которая получилась у него за сегодняшний рабочий день. А какой код написали бы вы?\n",
    "```python\n",
    "#! Славьтесь великие робо-господа !#\n",
    "legs = [int(i) for i in input().split()]\n",
    "# Ваш код будет вставлен сюда\n",
    "print(leg_count_in_longest_sequence(legs))\n",
    "```\n",
    "\n",
    "Этот код будет прогоняться по тестам. Ваша задача реализовать функцию ```leg_count_in_longest_sequence``` таким образом, чтобы код стал рабочим.\n"
   ]
  },
  {
   "cell_type": "code",
   "execution_count": 87,
   "metadata": {},
   "outputs": [
    {
     "name": "stdout",
     "output_type": "stream",
     "text": [
      "2\n"
     ]
    }
   ],
   "source": [
    "def leg_count_in_longest_sequence(legs):\n",
    "    max_count = 1\n",
    "    max_leg = legs[0]\n",
    "    current_count = 1\n",
    "\n",
    "    for i in range(1, len(legs)):\n",
    "        if legs[i] == legs[i - 1]:\n",
    "            current_count += 1\n",
    "        else:\n",
    "            if current_count > max_count:\n",
    "                max_count = current_count\n",
    "                max_leg = legs[i - 1]\n",
    "            current_count = 1\n",
    "\n",
    "    if current_count > max_count:\n",
    "        max_count = current_count\n",
    "        max_leg = legs[-1]\n",
    "\n",
    "    return max_leg"
   ]
  },
  {
   "cell_type": "markdown",
   "metadata": {},
   "source": [
    "## 16. Простой кредитный скоринг\n",
    "Дан код, предназначенный для предсказания вернёт ли заёмщик кредит или нет. Вывод делается на основании двух показателей: ```salary``` - зарплата заёмщика и ```request``` - размер запрошенных средств. Кроме того, существует файл ```data.csv``` с данными о выданых кредитах: ```id``` - идентификатор клиента (не играет роли в данной задаче); ```salary``` - зарплата клиента; ```request``` - сумма взятого кредита; ```repaid``` - состояние кредита (1 - погашен вовремя, 0 - просрочен).\n",
    "\n",
    "Гарантируется, что данные линейно разделимы относительно ```repaid```.\n",
    "\n",
    "```python\n",
    "client = dict(zip(['salary', 'request'], map(float, input().split())))\n",
    "# Ваш код будет вставлен сюда\n",
    "data = load('data.csv')\n",
    "brain = train(data)\n",
    "print('YES' if predict(brain, client) else 'NO')\n",
    "```\n",
    "\n",
    "Этот код будет прогоняться по тестам. Ваша задача реализовать функции ```load``` ```train``` и ```predict``` таким образом, чтобы этот код стал рабочим:\n",
    "\n",
    "* Функция ```load``` - должна загружать данные из файла data.csv и возвращать словарь или любую удобную для вас структуру данных. Как устроен файл можно понять, открыв его в любом текстовом редакторе.\n",
    "\n",
    "* Функция ```train``` - должна принимать то, что вернула функция load, обучать модель и возвращать её в обученном виде. В простейшем случае это тоже словарь.\n",
    "\n",
    "* Функция ```predict``` - должна возвращать приводимое к булевому типу значение, предсказывающее будет ли кредит погашен. Функция принимает обученную модель и словарь с данными о клиенте.\n"
   ]
  },
  {
   "cell_type": "code",
   "execution_count": 89,
   "metadata": {},
   "outputs": [],
   "source": [
    "import csv\n",
    "\n",
    "def load(filename: str) -> dict:\n",
    "    result = []\n",
    "    with open(filename) as file:\n",
    "        reader = csv.DictReader(file, delimiter=';', fieldnames=(\"id\", \"salary\", \"request\", \"repaid\"))\n",
    "        result = ([i for i in reader])[1:]\n",
    "\n",
    "        for row in result:\n",
    "            for key in row.keys():\n",
    "                row[key] = float(row[key])\n",
    "\n",
    "        return result\n",
    "\n",
    "\n",
    "def active_func(x: float | int) -> int:\n",
    "        return 1 if x >= 0 else 0\n",
    "\n",
    "\n",
    "def train(data: list[dict]) -> dict:\n",
    "    ws, wr, b, k = 0, 1, 1, 0.01\n",
    "\n",
    "    while True:\n",
    "        delta_set = []\n",
    "        for person in data:\n",
    "            z = person[\"salary\"] * ws + person[\"request\"] * wr - b\n",
    "            y = active_func(z)\n",
    "            \n",
    "            delta = person[\"repaid\"] - y\n",
    "\n",
    "            delta_set.append(delta)\n",
    "            \n",
    "            if delta == 0: \n",
    "                continue\n",
    "                \n",
    "            else:\n",
    "                ws = ws + person[\"salary\"] * delta * k \n",
    "                wr = wr + person[\"request\"] * delta * k\n",
    "                b = b + ((-1) * delta) * k\n",
    "\n",
    "        if not(any(delta_set)):\n",
    "            break\n",
    "\n",
    "    return {\"ws\": ws, \"wr\": wr, \"b\": b}\n",
    "\n",
    "def predict(model: dict, data: dict) -> bool:\n",
    "    z = model[\"ws\"] * data[\"salary\"] + model[\"wr\"] * data[\"request\"] - model[\"b\"]\n",
    "    return bool(active_func(z))\n",
    "\n"
   ]
  }
 ],
 "metadata": {
  "kernelspec": {
   "display_name": "Python 3",
   "language": "python",
   "name": "python3"
  },
  "language_info": {
   "codemirror_mode": {
    "name": "ipython",
    "version": 3
   },
   "file_extension": ".py",
   "mimetype": "text/x-python",
   "name": "python",
   "nbconvert_exporter": "python",
   "pygments_lexer": "ipython3",
   "version": "3.12.2"
  }
 },
 "nbformat": 4,
 "nbformat_minor": 2
}
