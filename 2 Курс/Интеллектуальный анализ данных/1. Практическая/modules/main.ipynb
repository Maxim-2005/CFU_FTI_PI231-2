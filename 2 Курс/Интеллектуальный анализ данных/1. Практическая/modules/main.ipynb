{
 "cells": [
  {
   "cell_type": "markdown",
   "metadata": {},
   "source": [
    "## 1-2. Наибольший общий делитель"
   ]
  },
  {
   "cell_type": "code",
   "execution_count": 2,
   "metadata": {},
   "outputs": [
    {
     "name": "stdout",
     "output_type": "stream",
     "text": [
      "Введенное число:  32\n",
      "Наибольший общий делитель равняется:  8\n"
     ]
    }
   ],
   "source": [
    "def gcd(number):\n",
    "    if len(str(number)) > 10:\n",
    "        return(print(\"Некоректный ввод\"))\n",
    "    else:\n",
    "        try: \n",
    "            number = bin(int(number))\n",
    "            if str(number)[-3::] == \"000\": # Кратно 8\n",
    "                return(print(\"Наибольший общий делитель равняется: \", 8))\n",
    "            elif str(number)[-2::] == \"00\": # Кратно 4\n",
    "                return(print(\"Наибольший общий делитель равняется: \", 4))\n",
    "            elif str(number)[-1::] == \"0\": # Кратно 2\n",
    "                return(print(\"Наибольший общий делитель равняется: \", 2))\n",
    "            else:\n",
    "                return (print(\"Наибольший общий делитель равняется: \", 1))\n",
    "        except Exception as exc:\n",
    "            return print(f\"Некорректный ввод, ошибка: {exc}\")\n",
    "\n",
    "number = int(input(\"Введите число: \"))\n",
    "print(\"Введенное число: \", number)\n",
    "gcd(number)"
   ]
  },
  {
   "cell_type": "markdown",
   "metadata": {},
   "source": [
    "## 3. Удаление повторяющихся гласнных"
   ]
  },
  {
   "cell_type": "code",
   "execution_count": 5,
   "metadata": {},
   "outputs": [
    {
     "name": "stdout",
     "output_type": "stream",
     "text": [
      "Исходная стока:  ааааоооуууфффпппсссррр\n",
      "Получившаяся строка:  аоуфффпппсссррр\n"
     ]
    }
   ],
   "source": [
    "def charfilter(string):\n",
    "    arr = \" \"\n",
    "    vowels = \"aeiouyаеёиоуыэюя\"\n",
    "    bowels = \"AEIOUYАЕЁИОУЫЭЮЯ\"\n",
    "    \n",
    "    for i in string:\n",
    "        if i in vowels or i in bowels:\n",
    "            if arr[-1] != i:\n",
    "                arr = arr + i\n",
    "        else:\n",
    "            arr += i\n",
    "    \n",
    "    arr = arr[1:]\n",
    "    return print(\"Получившаяся строка: \", arr)\n",
    "\n",
    "string = str(input(\"Введите строку: \"))\n",
    "print(\"Исходная стока: \", string)\n",
    "charfilter(string)"
   ]
  },
  {
   "cell_type": "markdown",
   "metadata": {},
   "source": [
    "## 4. Генератор простого числа"
   ]
  },
  {
   "cell_type": "code",
   "execution_count": 5,
   "metadata": {},
   "outputs": [
    {
     "name": "stdout",
     "output_type": "stream",
     "text": [
      "Ваше число: 94\n",
      "Ближайшее простое число: 97\n"
     ]
    }
   ],
   "source": [
    "def is_prime(number):\n",
    "    return not sum([1 if number % i == 0 else 0 for i in range(2, int(number / 2) + 1)])\n",
    "\n",
    "def prime_number(number):\n",
    "    number_up = number_down = number\n",
    "    r = is_prime(number)\n",
    "    u = d = r\n",
    "    if r:\n",
    "        return number\n",
    "    else:\n",
    "        c = 0\n",
    "        while not u:\n",
    "            number_up -=- 1\n",
    "            c -=- 1\n",
    "            u = is_prime(number_up)\n",
    "\n",
    "        s = 0\n",
    "        while not d:\n",
    "            number_down -= 1\n",
    "            s -=- 1\n",
    "            d = is_prime(number_down)\n",
    "\n",
    "    if c > s:\n",
    "        return number_down\n",
    "    else:\n",
    "        return number_up\n",
    "\n",
    "number = int(input(\"Введите число: \"))\n",
    "print(f\"Ваше число: {number}\\nБлижайшее простое число: {prime_number(number)}\")"
   ]
  },
  {
   "cell_type": "markdown",
   "metadata": {},
   "source": [
    "## 5*. Тест к заданию 4"
   ]
  },
  {
   "cell_type": "code",
   "execution_count": 3,
   "metadata": {},
   "outputs": [
    {
     "name": "stdout",
     "output_type": "stream",
     "text": [
      "На вход идёт 100, ожидается 101\n",
      "Тест пройден\n",
      "Время прохождения теста 0:00:00 секунд\n",
      "На вход идёт 6, ожидается 7\n",
      "Тест пройден\n",
      "Время прохождения теста 0:00:00 секунд\n",
      "На вход идёт 42, ожидается 43\n",
      "Тест пройден\n",
      "Время прохождения теста 0:00:00 секунд\n",
      "На вход идёт 66, ожидается 67\n",
      "Тест пройден\n",
      "Время прохождения теста 0:00:00 секунд\n",
      "На вход идёт 98, ожидается 99\n",
      "Тест не пройден\n",
      "Время прохождения теста 0:00:00 секунд\n",
      "Все тесты пройденны\n"
     ]
    }
   ],
   "source": [
    "from datetime import datetime\n",
    "from gen import prime_number\n",
    "\n",
    "def test_gen():\n",
    "    a = {100:101, 6:7, 100:101, 42:43, 66:67,98:99}\n",
    "    for i in a.keys():\n",
    "        t_b = datetime.now()\n",
    "        print(f\"На вход идёт {i}, ожидается {a[i]}\")\n",
    "        g = prime_number(i)\n",
    "        if g == a[i]:\n",
    "            print(\"Тест пройден\")\n",
    "        else:\n",
    "            print(\"Тест не пройден\")\n",
    "        t_e = datetime.now()\n",
    "        print(f\"Время прохождения теста {t_e-t_b} секунд\")\n",
    "    print(\"Все тесты пройденны\")\n",
    "\n",
    "test_gen()\n"
   ]
  },
  {
   "cell_type": "markdown",
   "metadata": {},
   "source": [
    "## 6. Фильтр комплексных чисел"
   ]
  },
  {
   "cell_type": "code",
   "execution_count": 12,
   "metadata": {},
   "outputs": [
    {
     "name": "stdout",
     "output_type": "stream",
     "text": [
      "Найденые комплексные числа: ((3+4j), (2-1j), (5+4j), (9+1j), (5-2j))\n"
     ]
    }
   ],
   "source": [
    "def complex_filter(matrix):\n",
    "    complex_numbers = []\n",
    "\n",
    "    # Поиск комплексных чисел\n",
    "    for i in matrix:\n",
    "        for element in i:\n",
    "            if isinstance(element, complex):\n",
    "                complex_numbers.append(element)\n",
    "\n",
    "    return tuple(complex_numbers)\n",
    "\n",
    "matrix = []\n",
    "rows = int(input(\"Введите кол-во стоблцов: \"))\n",
    "cols = int(input(\"Введите кол-во рядов: \"))\n",
    "\n",
    "# Ввод матрицы\n",
    "for i in range(rows):\n",
    "    row = []\n",
    "    elements = input().split()\n",
    "    \n",
    "    if len(elements) != cols:\n",
    "        raise ValueError(\"Неправильная матрица\")\n",
    "    \n",
    "    for i in elements:\n",
    "        try:\n",
    "            row.append(float(i))\n",
    "        except ValueError:\n",
    "            try:\n",
    "                row.append(complex(i))\n",
    "            except ValueError:\n",
    "                raise ValueError(f\"Элемент: '{i}' не является числом\")\n",
    "    \n",
    "    matrix.append(row)\n",
    "\n",
    "complex_tuple = complex_filter(matrix)\n",
    "print(f\"Найденые комплексные числа: {complex_tuple}\")\n"
   ]
  },
  {
   "cell_type": "markdown",
   "metadata": {},
   "source": [
    "## 7-8. Ряд фибоначи"
   ]
  },
  {
   "cell_type": "code",
   "execution_count": 31,
   "metadata": {},
   "outputs": [
    {
     "name": "stdout",
     "output_type": "stream",
     "text": [
      "Сгенерированные частичные суммы: [0, 1, 2, 4, 7, 12, 20, 33, 54, 88, 143, 232, 376]\n",
      "Индекс первого числа, у которого больше цифр, чем введеное кол-во: 34\n"
     ]
    }
   ],
   "source": [
    "# Генерация частичных сумм последовательности\n",
    "def fib_sums(n=None):\n",
    "    i, total_sum = 0, 0 # Счетчик, накопленная сумма\n",
    "    fr, sc = 0, 1  # Первые два числа Фибоначчи\n",
    "\n",
    "    while n is None or i < n:\n",
    "        total_sum += fr\n",
    "        yield total_sum\n",
    "        fr, sc = sc, fr + sc  # Обновление чисел Фибоначчи\n",
    "        i-=-1\n",
    "\n",
    "# Нахождения индекса первого элемента последовательности сумм фибоначи\n",
    "def find_in_fibonacci(digit_count: int):\n",
    "    for idx, fib_sum in enumerate(fib_sums()):\n",
    "        if len(str(fib_sum)) > digit_count:\n",
    "            return idx\n",
    "\n",
    "# Ввод и вывод для генерации частичных сумм\n",
    "n = int(input(\"Введите количество частичных сумм для вывода: \"))\n",
    "print(f\"Сгенерированные частичные суммы: {list(fib_sums(n))}\")\n",
    "\n",
    "# Ввод и вывод для поиска числа с заданным количеством цифр\n",
    "digits = int(input(\"Введите количество цифр для поиска: \"))\n",
    "print(f\"Индекс числа, у которого больше цифр, чем введеное: {find_in_fibonacci(digits)}\")\n"
   ]
  },
  {
   "cell_type": "markdown",
   "metadata": {},
   "source": [
    "## 9. Класс Frac"
   ]
  },
  {
   "cell_type": "code",
   "execution_count": 13,
   "metadata": {},
   "outputs": [
    {
     "name": "stdout",
     "output_type": "stream",
     "text": [
      "Полученная произведение: 45/7\n"
     ]
    }
   ],
   "source": [
    "class Frac:\n",
    "\n",
    "    def __init__(self, a: int, b: int):\n",
    "        self.numerator = a\n",
    "        if b == 0:\n",
    "            return ZeroDivisionError\n",
    "        self.denominator = b\n",
    "\n",
    "    def print_me(self):\n",
    "        print(f\"{self.numerator}/{self.denominator}\")\n",
    "\n",
    "    def sum(self, num):\n",
    "        self.numerator = self.numerator*num.denominator + num.numerator*self.denominator\n",
    "        self.denominator *= num.denominator\n",
    "\n",
    "        return f\"{self.numerator}/{self.denominator}\"\n",
    "\n",
    "    def multiply(self, num):\n",
    "        self.numerator *= num.numerator\n",
    "        self.denominator *= num.denominator\n",
    "\n",
    "        return f\"{self.numerator}/{self.denominator}\"\n",
    "\n",
    "    def reversal(self):\n",
    "        return self.numerator/self.denominator\n",
    "\n",
    "string = input(\"Введите числитель и знаменатель через пробел: \").split()\n",
    "a, b = int(string[0]), int(string[1])\n",
    "obj = Frac(a, b)\n",
    "n = input(\"Какую операцию вы хотите провести?\\n 1. Сложение\\t2. Произведение\\t3. Обращение : \")\n",
    "\n",
    "if n == \"1\" or n == \"2\":\n",
    "    num = int(input(\"Введите второе число: \"))\n",
    "    \n",
    "    if n == \"1\":\n",
    "        print(f\"Полученная сумма: {obj.sum(num)}\")\n",
    "    elif n == \"2\":\n",
    "        print(f\"Полученная произведение: {obj.multiply(num)}\")\n",
    "    elif n == \"3\":\n",
    "        print(obj.reversal())\n",
    "else:\n",
    "    print(\"Такой операции не существует\")\n"
   ]
  },
  {
   "cell_type": "markdown",
   "metadata": {},
   "source": [
    "## 10*. Класс Descr"
   ]
  },
  {
   "cell_type": "markdown",
   "metadata": {},
   "source": [
    "## 11. Векторное произведение в 3-мерном пространстве"
   ]
  },
  {
   "cell_type": "code",
   "execution_count": 11,
   "metadata": {},
   "outputs": [
    {
     "name": "stdout",
     "output_type": "stream",
     "text": [
      "Первый вектор: [1, 2, 3]\n",
      "Второй вектор: [4, 5, 6]\n",
      "Векторное произведение равно:  (-3, 6, -3)\n"
     ]
    }
   ],
   "source": [
    "def vector3(vector1, vector2):\n",
    "    x1, y1, z1 = vector1\n",
    "    x2, y2, z2 = vector2\n",
    "\n",
    "    x = y1 * z2 - z1 * y2\n",
    "    y = z1 * x2 - x1 * z2\n",
    "    z = x1 * y2 - y1 * x2\n",
    "\n",
    "    return(x, y, z)\n",
    "\n",
    "v1 = list(map(int, input(\"Введите первый вектор: \").split()))\n",
    "v2 = list(map(int, input(\"Введите второй вектор: \").split()))\n",
    "print(f\"Первый вектор: {v1}\")\n",
    "print(f\"Второй вектор: {v2}\")\n",
    "result = vector3(v1, v2)\n",
    "print(\"Векторное произведение равно: \", result)\n"
   ]
  },
  {
   "cell_type": "markdown",
   "metadata": {},
   "source": [
    "## 12. Определитель матрица произовльной размерности"
   ]
  }
 ],
 "metadata": {
  "kernelspec": {
   "display_name": "Python 3",
   "language": "python",
   "name": "python3"
  },
  "language_info": {
   "codemirror_mode": {
    "name": "ipython",
    "version": 3
   },
   "file_extension": ".py",
   "mimetype": "text/x-python",
   "name": "python",
   "nbconvert_exporter": "python",
   "pygments_lexer": "ipython3",
   "version": "3.12.6"
  }
 },
 "nbformat": 4,
 "nbformat_minor": 2
}
